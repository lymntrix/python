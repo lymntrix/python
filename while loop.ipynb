{
 "cells": [
  {
   "cell_type": "code",
   "execution_count": 4,
   "metadata": {},
   "outputs": [
    {
     "name": "stdout",
     "output_type": "stream",
     "text": [
      "enter the no 0\n",
      "enter the no 1\n",
      "enter the no 2\n",
      "enter the no 3\n",
      "enter the no 4\n",
      "enter the no 5\n",
      "enter the no 6\n",
      "enter the no 7\n",
      "enter the no 8\n",
      "enter the no 9\n"
     ]
    }
   ],
   "source": [
    "var=0\n",
    "while var<10:\n",
    "    print(\"enter the no {}\".format(var))\n",
    "    var+=1\n",
    "    "
   ]
  },
  {
   "cell_type": "code",
   "execution_count": 5,
   "metadata": {},
   "outputs": [
    {
     "name": "stdout",
     "output_type": "stream",
     "text": [
      "please enter the direction: south\n",
      "glad you are out of the loop\n"
     ]
    }
   ],
   "source": [
    "available_exits=['east','west','south']\n",
    "choosen_exits=\"\"\n",
    "while choosen_exits not in available_exits:\n",
    "    choosen_exits=input(\"please enter the direction: \")\n",
    "    \n",
    "print(\"glad you are out of the loop\")"
   ]
  },
  {
   "cell_type": "code",
   "execution_count": 4,
   "metadata": {},
   "outputs": [
    {
     "name": "stdout",
     "output_type": "stream",
     "text": [
      "please enter the direction: ewewe\n",
      "please enter the direction: west\n",
      "try one again\n",
      "glad you are out of this loop\n"
     ]
    }
   ],
   "source": [
    "available_exits=['east','west','south']\n",
    "choosen_exits=\"\"\n",
    "while choosen_exits not in available_exits:\n",
    "    choosen_exits=input(\"please enter the direction: \")\n",
    "    if choosen_exits=='quit':\n",
    "            print(\"your game is over\")\n",
    "            break\n",
    "else:\n",
    "    print(\"try one again\")\n",
    "print(\"glad you are out of this loop\")"
   ]
  }
 ],
 "metadata": {
  "kernelspec": {
   "display_name": "Python 3",
   "language": "python",
   "name": "python3"
  },
  "language_info": {
   "codemirror_mode": {
    "name": "ipython",
    "version": 3
   },
   "file_extension": ".py",
   "mimetype": "text/x-python",
   "name": "python",
   "nbconvert_exporter": "python",
   "pygments_lexer": "ipython3",
   "version": "3.7.1"
  }
 },
 "nbformat": 4,
 "nbformat_minor": 2
}
