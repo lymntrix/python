{
 "cells": [
  {
   "cell_type": "code",
   "execution_count": null,
   "metadata": {},
   "outputs": [],
   "source": [
    "name=\"rahul\"\n",
    "while True:\n",
    "    print(\"please enter your name\")\n",
    "    name1=input()\n",
    "    if(name1==name):\n",
    "        break\n",
    "print(\"thank you \",name)"
   ]
  },
  {
   "cell_type": "code",
   "execution_count": 2,
   "metadata": {},
   "outputs": [
    {
     "name": "stdout",
     "output_type": "stream",
     "text": [
      "enter your name\n",
      "rahul\n",
      "enter your password\n",
      "chatterjee\n",
      "access granted\n"
     ]
    }
   ],
   "source": [
    "while True:\n",
    "    print(\"enter your name\")\n",
    "    name1=input()\n",
    "    if name1!=name:\n",
    "        continue\n",
    "    print(\"enter your password\")\n",
    "    password=input()\n",
    "    if(password==\"chatterjee\"):\n",
    "        break\n",
    "print(\"access granted\")\n",
    "    \n",
    "        "
   ]
  },
  {
   "cell_type": "code",
   "execution_count": 11,
   "metadata": {},
   "outputs": [
    {
     "name": "stdout",
     "output_type": "stream",
     "text": [
      "i is now 20\n",
      "i is now 19\n",
      "i is now 18\n",
      "i is now 17\n",
      "i is now 16\n",
      "i is now 15\n",
      "i is now 14\n",
      "i is now 13\n",
      "i is now 12\n",
      "i is now 11\n",
      "i is now 10\n",
      "i is now 9\n",
      "i is now 8\n",
      "i is now 7\n",
      "i is now 6\n",
      "i is now 5\n",
      "i is now 4\n",
      "i is now 3\n",
      "i is now 2\n"
     ]
    }
   ],
   "source": [
    "for i in range(20,1,-1):\n",
    "    print('i is now {}'.format(i))"
   ]
  },
  {
   "cell_type": "code",
   "execution_count": 35,
   "metadata": {},
   "outputs": [
    {
     "name": "stdout",
     "output_type": "stream",
     "text": [
      "4,34,5445,2323,44"
     ]
    },
    {
     "data": {
      "text/plain": [
       "int"
      ]
     },
     "execution_count": 35,
     "metadata": {},
     "output_type": "execute_result"
    }
   ],
   "source": [
    "num=('4,34,5445,2323,44')\n",
    "for i in range(len(num)):\n",
    "    print(num[i],end=\"\")\n",
    "type(i)"
   ]
  },
  {
   "cell_type": "code",
   "execution_count": 43,
   "metadata": {},
   "outputs": [
    {
     "name": "stdout",
     "output_type": "stream",
     "text": [
      "your new number in int format is 4345445232344\n"
     ]
    },
    {
     "data": {
      "text/plain": [
       "int"
      ]
     },
     "execution_count": 43,
     "metadata": {},
     "output_type": "execute_result"
    }
   ],
   "source": [
    "num=('4,34,5445,2323,44')\n",
    "cleannumber=''\n",
    "for i in range(len(num)):\n",
    "    if num[i] in '0123456789':\n",
    "        cleannumber+=num[i]\n",
    "new=int(cleannumber)\n",
    "print(\"your new number in int format is {}\".format(new))\n",
    "type (new)"
   ]
  }
 ],
 "metadata": {
  "kernelspec": {
   "display_name": "Python 3",
   "language": "python",
   "name": "python3"
  },
  "language_info": {
   "codemirror_mode": {
    "name": "ipython",
    "version": 3
   },
   "file_extension": ".py",
   "mimetype": "text/x-python",
   "name": "python",
   "nbconvert_exporter": "python",
   "pygments_lexer": "ipython3",
   "version": "3.7.1"
  }
 },
 "nbformat": 4,
 "nbformat_minor": 2
}
