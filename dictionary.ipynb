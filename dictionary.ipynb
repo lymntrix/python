{
 "cells": [
  {
   "cell_type": "code",
   "execution_count": 2,
   "metadata": {},
   "outputs": [
    {
     "data": {
      "text/plain": [
       "'chatterjee'"
      ]
     },
     "execution_count": 2,
     "metadata": {},
     "output_type": "execute_result"
    }
   ],
   "source": [
    "mycat={'rahul':'chatterjee','rollno':'1ox16is070','dept':'ISE'}\n",
    "mycat['rahul']"
   ]
  },
  {
   "cell_type": "code",
   "execution_count": 5,
   "metadata": {},
   "outputs": [
    {
     "data": {
      "text/plain": [
       "'ISE'"
      ]
     },
     "execution_count": 5,
     "metadata": {},
     "output_type": "execute_result"
    }
   ],
   "source": [
    "mycat['dept']"
   ]
  },
  {
   "cell_type": "code",
   "execution_count": 10,
   "metadata": {},
   "outputs": [
    {
     "data": {
      "text/plain": [
       "False"
      ]
     },
     "execution_count": 10,
     "metadata": {},
     "output_type": "execute_result"
    }
   ],
   "source": [
    "#list\n",
    "spam=['cat','dog','rat']\n",
    "spam1=['rat','dog','cat']\n",
    "spam==spam1"
   ]
  },
  {
   "cell_type": "code",
   "execution_count": 15,
   "metadata": {},
   "outputs": [
    {
     "data": {
      "text/plain": [
       "True"
      ]
     },
     "execution_count": 15,
     "metadata": {},
     "output_type": "execute_result"
    }
   ],
   "source": [
    "#dictionary\n",
    "mycat={'rahul':'chatterjee','rollno':'1ox16is070','dept':'ISE'}\n",
    "mycat1={'rollno':'1ox16is070','dept':'ISE','rahul':'chatterjee'}\n",
    "mycat==mycat1"
   ]
  },
  {
   "cell_type": "code",
   "execution_count": 20,
   "metadata": {},
   "outputs": [
    {
     "name": "stdout",
     "output_type": "stream",
     "text": [
      "dict_keys(['rahul', 'rollno', 'dept'])\n"
     ]
    }
   ],
   "source": [
    "print(mycat.keys())"
   ]
  },
  {
   "cell_type": "code",
   "execution_count": 22,
   "metadata": {},
   "outputs": [
    {
     "name": "stdout",
     "output_type": "stream",
     "text": [
      "dict_values(['chatterjee', '1ox16is070', 'ISE'])\n"
     ]
    }
   ],
   "source": [
    "print(mycat.values())"
   ]
  },
  {
   "cell_type": "code",
   "execution_count": 24,
   "metadata": {},
   "outputs": [
    {
     "name": "stdout",
     "output_type": "stream",
     "text": [
      "rahul\n",
      "rollno\n",
      "dept\n"
     ]
    }
   ],
   "source": [
    "for i in mycat.keys():\n",
    "        print(i)"
   ]
  },
  {
   "cell_type": "code",
   "execution_count": 28,
   "metadata": {},
   "outputs": [
    {
     "name": "stdout",
     "output_type": "stream",
     "text": [
      "('rahul', 'chatterjee')\n",
      "('rollno', '1ox16is070')\n",
      "('dept', 'ISE')\n"
     ]
    }
   ],
   "source": [
    "for i in mycat.items():\n",
    "    print(i)"
   ]
  },
  {
   "cell_type": "code",
   "execution_count": 1,
   "metadata": {},
   "outputs": [
    {
     "name": "stdout",
     "output_type": "stream",
     "text": [
      "enter the name\n",
      "rahul;\n",
      "i dont have your birthday\n",
      "\n",
      "database updated\n",
      "enter the name\n",
      "rahul\n",
      "21janis the birthday ofrahul\n"
     ]
    }
   ],
   "source": [
    "birthday={'rahul':'21jan','sham':'12jun','ram':'21apr'}\n",
    "while True:\n",
    "    print(\"enter the name\")\n",
    "    name=input()\n",
    "    if name==\"\":\n",
    "        break\n",
    "    if name in birthday:\n",
    "        print(birthday[name]+'is the birthday of'+name)\n",
    "        break\n",
    "    else:\n",
    "        print(\"i dont have your birthday\")\n",
    "        brthday=input()\n",
    "        birthday[name]=brthday\n",
    "        print(\"database updated\")\n"
   ]
  },
  {
   "cell_type": "code",
   "execution_count": 7,
   "metadata": {},
   "outputs": [
    {
     "name": "stdout",
     "output_type": "stream",
     "text": [
      "dict_values(['21jan', '12jun', '21apr', ''])\n"
     ]
    }
   ],
   "source": [
    "print(birthday.values())"
   ]
  },
  {
   "cell_type": "code",
   "execution_count": null,
   "metadata": {},
   "outputs": [],
   "source": []
  }
 ],
 "metadata": {
  "kernelspec": {
   "display_name": "Python 3",
   "language": "python",
   "name": "python3"
  },
  "language_info": {
   "codemirror_mode": {
    "name": "ipython",
    "version": 3
   },
   "file_extension": ".py",
   "mimetype": "text/x-python",
   "name": "python",
   "nbconvert_exporter": "python",
   "pygments_lexer": "ipython3",
   "version": "3.7.1"
  }
 },
 "nbformat": 4,
 "nbformat_minor": 2
}
